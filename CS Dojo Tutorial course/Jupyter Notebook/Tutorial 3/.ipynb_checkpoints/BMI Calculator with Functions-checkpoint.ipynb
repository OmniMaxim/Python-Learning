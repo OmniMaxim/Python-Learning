{
 "cells": [
  {
   "cell_type": "code",
   "execution_count": 21,
   "metadata": {},
   "outputs": [],
   "source": [
    "#This code contains the same values as the original assignment\n",
    "#In this cell I have written a function that automatically inserts the names and values \n",
    "#It also returns the appropriate statement depending on the if clause\n",
    "\n",
    "\n",
    "name1= 'Kyle Matthew'\n",
    "name2= 'Aleksa Chloe'\n",
    "height_m1= 1.65\n",
    "height_m2= 1.52\n",
    "weight_kg1= 62\n",
    "weight_kg2= 52\n",
    "\n",
    "#note: for the return function, instead of commas I need to use the plus(+) symbol\n",
    "def bmi_calc(name, height, weight):\n",
    "    bmi= weight/(height**2)\n",
    "    print (\"The BMI of\",name,\"is\",bmi)\n",
    "    if bmi<18.5:\n",
    "            return (name + ' is underweight')\n",
    "    else:\n",
    "        if bmi<24.9:\n",
    "            return (name+' is normal weight')\n",
    "        else:\n",
    "            if bmi<29.9:\n",
    "                return (name+ ' is overweight')\n",
    "            else:\n",
    "                if bmi<34.9:\n",
    "                    return (name+ ' is now in Obesity Class I')\n",
    "                else:\n",
    "                    if bmi<39.9:\n",
    "                        return (name+ ' is now in Obesity Class II')\n",
    "                    else:\n",
    "                        if bmi>=40:\n",
    "                            return (name+ ' is now in Obseity Class III')"
   ]
  },
  {
   "cell_type": "code",
   "execution_count": 22,
   "metadata": {},
   "outputs": [],
   "source": [
    "#In my first BMI calculator,I had to rewrite every statement with the variable matched with me and Aleksa\n",
    "#every single \"if\" statement had to be re-written with the bmi1, then re-written again with bmi2 for Aleksa\n",
    "#because of the function however, I now only need to plug in the values in the parentheses only once\n"
   ]
  },
  {
   "cell_type": "code",
   "execution_count": 23,
   "metadata": {},
   "outputs": [
    {
     "name": "stdout",
     "output_type": "stream",
     "text": [
      "The BMI of Kyle Matthew is 22.77318640955005\n",
      "Kyle Matthew is normal weight\n"
     ]
    }
   ],
   "source": [
    "result1= bmi_calc(name1, height_m1, weight_kg1)\n",
    "print (result1)"
   ]
  },
  {
   "cell_type": "code",
   "execution_count": 24,
   "metadata": {},
   "outputs": [],
   "source": [
    "#this time I will now plug in the variables that were defined for Aleksa\n",
    "#as you can see here, the results of course contain the answer for Aleksa's body\n"
   ]
  },
  {
   "cell_type": "code",
   "execution_count": 25,
   "metadata": {},
   "outputs": [
    {
     "name": "stdout",
     "output_type": "stream",
     "text": [
      "The BMI of Aleksa Chloe is 22.506925207756233\n",
      "Aleksa Chloe is normal weight\n"
     ]
    }
   ],
   "source": [
    "result2= bmi_calc(name2, height_m2, weight_kg2)\n",
    "print (result2)"
   ]
  },
  {
   "cell_type": "code",
   "execution_count": 27,
   "metadata": {},
   "outputs": [
    {
     "name": "stdout",
     "output_type": "stream",
     "text": [
      "The BMI of Mystery Man is 28.113286130778846\n",
      "Mystery Man is overweight\n"
     ]
    }
   ],
   "source": [
    "#Alternatively, you can directly insert integers and strings into the function\n",
    "#You dont need to assign a variable to a value \n",
    "#Just typing the values in the appropriate positions in the function is enough(but more tedious)\n",
    "#Here I typed in \"Mystery Man\" string for the name\n",
    "#1.96 meters for the height\n",
    "#108 kilograms for the wright\n",
    "\n",
    "result3= bmi_calc(\"Mystery Man\", 1.96, 108)\n",
    "print (result3)"
   ]
  },
  {
   "cell_type": "code",
   "execution_count": null,
   "metadata": {},
   "outputs": [],
   "source": []
  }
 ],
 "metadata": {
  "kernelspec": {
   "display_name": "Python 3",
   "language": "python",
   "name": "python3"
  },
  "language_info": {
   "codemirror_mode": {
    "name": "ipython",
    "version": 3
   },
   "file_extension": ".py",
   "mimetype": "text/x-python",
   "name": "python",
   "nbconvert_exporter": "python",
   "pygments_lexer": "ipython3",
   "version": "3.8.3"
  }
 },
 "nbformat": 4,
 "nbformat_minor": 4
}
