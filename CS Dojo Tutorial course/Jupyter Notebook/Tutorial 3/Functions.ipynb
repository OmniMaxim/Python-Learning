{
 "cells": [
  {
   "cell_type": "code",
   "execution_count": 5,
   "metadata": {},
   "outputs": [],
   "source": [
    "#functions are a defined as a collection of isntructions or code\n",
    "#similar to variables, you can choose the name for each function that you create\n",
    "#a function can be created by typing \"def\" then the function name with parentheses (), and finally a colon\n",
    "#below this line of code, you can now write the collection of code that will run\n",
    "\n",
    "def function1():\n",
    "    print (\"You have activated function number 1\")\n",
    "    print (\"Congratulations, and good luck in your studies to become a programmer!\")"
   ]
  },
  {
   "cell_type": "code",
   "execution_count": 6,
   "metadata": {},
   "outputs": [
    {
     "name": "stdout",
     "output_type": "stream",
     "text": [
      "You have activated function number 1\n",
      "Congratulations, and good luck in your studies to become a programmer!\n"
     ]
    }
   ],
   "source": [
    "#in this cell I will simply write a line of code that contains the function\n",
    "#as you will see below, instead of using the print command, the function will run the print commands for us\n",
    "\n",
    "function1()\n"
   ]
  },
  {
   "cell_type": "code",
   "execution_count": 7,
   "metadata": {},
   "outputs": [],
   "source": [
    "#function mapping is a process that allows input in the functions you create\n",
    "#in my personal opinion, I see functions as equations with empty spaces\n",
    "#entering a value into the declared function calculates that value in all the variable positions\n",
    "\n",
    "def function_map1 (x):\n",
    "    print (2*x)"
   ]
  },
  {
   "cell_type": "code",
   "execution_count": 9,
   "metadata": {},
   "outputs": [
    {
     "name": "stdout",
     "output_type": "stream",
     "text": [
      "8\n"
     ]
    }
   ],
   "source": [
    "#as you see here, the function multiplied the given variable by two and then did the print command to display the answer\n",
    "#in this cell I have written (4). Since 2*4=8, the number displayed is 8\n",
    "\n",
    "function_map1 (4)"
   ]
  },
  {
   "cell_type": "code",
   "execution_count": 11,
   "metadata": {},
   "outputs": [],
   "source": [
    "#instead of just printing statements or integers, the function can also be used as a value\n",
    "#this can be done using the \"return\" command\n",
    "#when assigning the function to a variable, the variable will detect what is inside the return command to be the value\n",
    "\n",
    "def function_map2 (x):\n",
    "    return 3*x\n"
   ]
  },
  {
   "cell_type": "code",
   "execution_count": 12,
   "metadata": {},
   "outputs": [
    {
     "name": "stdout",
     "output_type": "stream",
     "text": [
      "12\n"
     ]
    }
   ],
   "source": [
    "#in this cell function_map2 contained (4), therefore its value is 3*4=12\n",
    "#this means that a now has the value of 12\n",
    "#in order to confirm this, \"print (a)\" shows that a is definitely 12\n",
    "\n",
    "a= function_map2(4)\n",
    "print (a)"
   ]
  },
  {
   "cell_type": "code",
   "execution_count": 13,
   "metadata": {},
   "outputs": [],
   "source": [
    "#as mentioned earlier, a function is a collection of code\n",
    "#for example, in what we have learned so far, we know about print functions and return functions\n",
    "#so here we will show them being used in a single function\n",
    "\n",
    "def function3 (x):\n",
    "    print (\"The value that has been entered into this equation is\", x)\n",
    "    print (\"The program will now multiply this value by 5\")\n",
    "    return (5*x)\n"
   ]
  },
  {
   "cell_type": "code",
   "execution_count": 14,
   "metadata": {},
   "outputs": [
    {
     "name": "stdout",
     "output_type": "stream",
     "text": [
      "The value that has been entered into this equation is 7\n",
      "The program will now multiply this value by 5\n"
     ]
    }
   ],
   "source": [
    "#In this cell b was assigned to the function with variable (7)\n",
    "#as you can see below, the print command in the function still displayed the message\n",
    "#b was then assigned to the return value in the function\n",
    "\n",
    "b= function3(7)"
   ]
  },
  {
   "cell_type": "code",
   "execution_count": 15,
   "metadata": {},
   "outputs": [
    {
     "name": "stdout",
     "output_type": "stream",
     "text": [
      "35\n"
     ]
    }
   ],
   "source": [
    "#as you can see here, b has printed the return value of 7 times 5\n",
    "#b=7*5=35\n",
    "\n",
    "print (b)"
   ]
  },
  {
   "cell_type": "code",
   "execution_count": 16,
   "metadata": {},
   "outputs": [],
   "source": [
    "#New Exercise\n",
    "#create a BMI calculator that utilizes functions and function mapping"
   ]
  },
  {
   "cell_type": "code",
   "execution_count": null,
   "metadata": {},
   "outputs": [],
   "source": []
  }
 ],
 "metadata": {
  "kernelspec": {
   "display_name": "Python 3",
   "language": "python",
   "name": "python3"
  },
  "language_info": {
   "codemirror_mode": {
    "name": "ipython",
    "version": 3
   },
   "file_extension": ".py",
   "mimetype": "text/x-python",
   "name": "python",
   "nbconvert_exporter": "python",
   "pygments_lexer": "ipython3",
   "version": "3.8.3"
  }
 },
 "nbformat": 4,
 "nbformat_minor": 4
}
