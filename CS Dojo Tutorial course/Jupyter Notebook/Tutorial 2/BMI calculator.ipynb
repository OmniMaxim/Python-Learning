{
 "cells": [
  {
   "cell_type": "code",
   "execution_count": 12,
   "metadata": {},
   "outputs": [],
   "source": [
    "#BMI calculator activity\n",
    "#originally the tutorial class only contained two statements, overweight and not overweight\n",
    "#in order to get more practice, I decided to search for the actual BMI chart\n",
    "#I then proceeded to write multiple if clauses in order to fit every category\n",
    "name1= 'Kyle Matthew'\n",
    "name2= 'Aleksa Chloe'\n",
    "height_m1= 1.65\n",
    "height_m2= 1.52\n",
    "weight_kg1= 62\n",
    "weight_kg2= 52"
   ]
  },
  {
   "cell_type": "code",
   "execution_count": 13,
   "metadata": {},
   "outputs": [
    {
     "name": "stdout",
     "output_type": "stream",
     "text": [
      "Kyle Matthew has the bmi value of 22.77318640955005\n",
      "Kyle Matthew is normal weight\n"
     ]
    }
   ],
   "source": [
    "bmi1= weight_kg1/(height_m1**2)\n",
    "print (name1,'has the bmi value of',bmi1)\n",
    "if bmi1<18.5:\n",
    "    print (name1, 'is underweight')\n",
    "else:\n",
    "    if bmi1<24.9:\n",
    "        print (name1, 'is normal weight')\n",
    "    else:\n",
    "        if bmi1<29.9:\n",
    "            print (name1, 'is overweight')\n",
    "        else:\n",
    "            if bmi1<34.9:\n",
    "                print (name1, 'is now in Obesity Class I')\n",
    "            else:\n",
    "                if bmi1<39.9:\n",
    "                    print (name1, 'is now in Obesity Class II')\n",
    "                else:\n",
    "                    if bmi1>=40:\n",
    "                        print (name1, 'is now in Obseity Class III')"
   ]
  },
  {
   "cell_type": "code",
   "execution_count": 14,
   "metadata": {},
   "outputs": [
    {
     "name": "stdout",
     "output_type": "stream",
     "text": [
      "Aleksa Chloe has the bmi value of 22.506925207756233\n",
      "Aleksa Chloe is normal weight\n"
     ]
    }
   ],
   "source": [
    "bmi2= weight_kg2/(height_m2**2)\n",
    "print (name2,'has the bmi value of',bmi2)\n",
    "if bmi2<18.5:\n",
    "    print (name2, 'is underweight')\n",
    "else:\n",
    "    if bmi2<24.9:\n",
    "        print (name2, 'is normal weight')\n",
    "    else:\n",
    "        if bmi2<29.9:\n",
    "            print (name2, 'is overweight')\n",
    "        else:\n",
    "            if bmi2<34.9:\n",
    "                print (name2, 'is now in Obesity Class I')\n",
    "            else:\n",
    "                if bmi2<39.9:\n",
    "                    print (name2, 'is now in Obesity Class II')\n",
    "                else:\n",
    "                    if bmi2>=40:\n",
    "                        print (name2, 'is now in Obseity Class III')"
   ]
  }
 ],
 "metadata": {
  "kernelspec": {
   "display_name": "Python 3",
   "language": "python",
   "name": "python3"
  },
  "language_info": {
   "codemirror_mode": {
    "name": "ipython",
    "version": 3
   },
   "file_extension": ".py",
   "mimetype": "text/x-python",
   "name": "python",
   "nbconvert_exporter": "python",
   "pygments_lexer": "ipython3",
   "version": "3.8.3"
  }
 },
 "nbformat": 4,
 "nbformat_minor": 4
}
