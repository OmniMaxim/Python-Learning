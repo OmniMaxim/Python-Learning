{
 "cells": [
  {
   "cell_type": "code",
   "execution_count": 16,
   "metadata": {},
   "outputs": [],
   "source": [
    "note1 = \"The If clause can be executed by first typing if, then the conditions, then a colon, then 4 spaces, then finally the command\"\n",
    "note2 = \"You can write more than one command to be executed under the if statement as long as it is separted and has 4 lines as well\"\n",
    "note3 = \"The command line can have 3, 4, 5, or more spaces. However, this needs to be identical for any following commands. If you use 6 spaces instead of 4, then the following statements also need to contain 6 spaces\"\n",
    "note4 = \"You can write an independent line of code that will always execute regardless of the If clause as long as it does not have any spaces.\"\n",
    "note5 = \"The if clause can contain more than two conditions by using the elif function in between\"\n",
    "note6 = \"The elif function can be written several times\"\n",
    "note7 = \"Alternatively, instead of writing multiple elif lines, the if statement can be written under the else statement\"\n"
   ]
  },
  {
   "cell_type": "code",
   "execution_count": 11,
   "metadata": {},
   "outputs": [
    {
     "name": "stdout",
     "output_type": "stream",
     "text": [
      "The If clause can be executed by first typing if, then the conditions, then a colon, then 4 spaces, then finally the command\n"
     ]
    }
   ],
   "source": [
    "print (note1)"
   ]
  },
  {
   "cell_type": "code",
   "execution_count": 12,
   "metadata": {},
   "outputs": [
    {
     "name": "stdout",
     "output_type": "stream",
     "text": [
      "a is less than b\n"
     ]
    }
   ],
   "source": [
    "a = 1\n",
    "b = 2\n",
    "if a < b:\n",
    "    print ('a is less than b')"
   ]
  },
  {
   "cell_type": "code",
   "execution_count": 13,
   "metadata": {},
   "outputs": [
    {
     "name": "stdout",
     "output_type": "stream",
     "text": [
      "You can write more than one command to be executed under the if statement as long as it is separted and has 4 lines as well\n"
     ]
    }
   ],
   "source": [
    "print (note2)"
   ]
  },
  {
   "cell_type": "code",
   "execution_count": 14,
   "metadata": {},
   "outputs": [
    {
     "name": "stdout",
     "output_type": "stream",
     "text": [
      "a is less than b\n",
      "yes, Im sure that a is less than b\n"
     ]
    }
   ],
   "source": [
    "a = 1\n",
    "b = 2\n",
    "if a < b:\n",
    "    print ('a is less than b')\n",
    "    print ('yes, Im sure that a is less than b')"
   ]
  },
  {
   "cell_type": "code",
   "execution_count": 15,
   "metadata": {},
   "outputs": [
    {
     "name": "stdout",
     "output_type": "stream",
     "text": [
      "The command line can have 3, 4, 5, or more spaces. However, this needs to be identical for any following commands. If you use 6 spaces instead of 4, then the following statements also need to contain 6 spaces\n"
     ]
    }
   ],
   "source": [
    "print (note3)"
   ]
  },
  {
   "cell_type": "code",
   "execution_count": 16,
   "metadata": {},
   "outputs": [
    {
     "name": "stdout",
     "output_type": "stream",
     "text": [
      "a is less than b\n",
      "Yes, I am sure that a is less than b\n"
     ]
    }
   ],
   "source": [
    "a = 1\n",
    "b = 2\n",
    "if a < b:\n",
    "       print ('a is less than b')\n",
    "       print ('Yes, I am sure that a is less than b')"
   ]
  },
  {
   "cell_type": "code",
   "execution_count": 18,
   "metadata": {},
   "outputs": [
    {
     "name": "stdout",
     "output_type": "stream",
     "text": [
      "You can write an independent line of code that will always execute regardless of the If clause as long as it does not have any spaces.\n"
     ]
    }
   ],
   "source": [
    "print (note4)\n"
   ]
  },
  {
   "cell_type": "code",
   "execution_count": 2,
   "metadata": {},
   "outputs": [
    {
     "name": "stdout",
     "output_type": "stream",
     "text": [
      "I exist no matter what\n"
     ]
    }
   ],
   "source": [
    "#in this cell, c is greater than d so the if clause is not fulfilled\n",
    "#as a result the print statement in the clause will not show\n",
    "#however, the separate line of code will still appear\n",
    "c = 3\n",
    "d = 2\n",
    "if c < d:\n",
    "    print ('a is less than b')\n",
    "print ('I exist no matter what')"
   ]
  },
  {
   "cell_type": "code",
   "execution_count": 7,
   "metadata": {},
   "outputs": [
    {
     "name": "stdout",
     "output_type": "stream",
     "text": [
      "The if clause can contain more than two conditions by using the elif function in between\n"
     ]
    }
   ],
   "source": [
    "print (note5)"
   ]
  },
  {
   "cell_type": "code",
   "execution_count": 10,
   "metadata": {},
   "outputs": [
    {
     "name": "stdout",
     "output_type": "stream",
     "text": [
      "c is a negative number\n"
     ]
    }
   ],
   "source": [
    "#In this cell there are three categories. Positive, negative, and neither a.k.a zero\n",
    "#Using the elif statement, it is possible to create a condition for more than just two possibilities\n",
    "c=-4\n",
    "\n",
    "if c<0:\n",
    "    print (\"c is a negative number\")\n",
    "elif c==0:\n",
    "    print (\"c is equal to zero\")\n",
    "else:\n",
    "    print (\"c is a positive number\")\n",
    "    "
   ]
  },
  {
   "cell_type": "code",
   "execution_count": 11,
   "metadata": {},
   "outputs": [
    {
     "name": "stdout",
     "output_type": "stream",
     "text": [
      "The elif function can be written several times\n"
     ]
    }
   ],
   "source": [
    "print (note6)"
   ]
  },
  {
   "cell_type": "code",
   "execution_count": 14,
   "metadata": {},
   "outputs": [
    {
     "name": "stdout",
     "output_type": "stream",
     "text": [
      "e is a three-digit integer\n"
     ]
    }
   ],
   "source": [
    "#as mentione dbefore, the elif can be written more than once\n",
    "#this allows statements which can apply to virtually any number of conditions\n",
    "e=100\n",
    "\n",
    "if e<10:\n",
    "    print (\"e is a single digit integer\")\n",
    "elif e<100:\n",
    "    print (\"e is a two-digit integer\")\n",
    "elif e<1000:\n",
    "    print (\"e is a three-digit integer\")\n"
   ]
  },
  {
   "cell_type": "code",
   "execution_count": 17,
   "metadata": {},
   "outputs": [
    {
     "name": "stdout",
     "output_type": "stream",
     "text": [
      "Alternatively, instead of writing multiple elif lines, the if statement can be written under the else statement\n"
     ]
    }
   ],
   "source": [
    "print (note7)"
   ]
  },
  {
   "cell_type": "code",
   "execution_count": 24,
   "metadata": {},
   "outputs": [
    {
     "name": "stdout",
     "output_type": "stream",
     "text": [
      "f is equal to:\n",
      "-128\n",
      "f is a three digit negative integer\n"
     ]
    }
   ],
   "source": [
    "#In this cell there are 3 different statements which can be true\n",
    "#instead of repeating elif, the if clause was used several times within the else statement\n",
    "\n",
    "f=-128\n",
    "print (\"f is equal to:\")\n",
    "print (f)\n",
    "if f<0 and f>-10:\n",
    "    print (\"f is a single digit negative integer\")\n",
    "else:\n",
    "    if f<=-10 and f>-100:\n",
    "        print (\"f is a two digit negative integer\")\n",
    "    else:\n",
    "        if f<=-100 and f>-1000:\n",
    "            print (\"f is a three digit negative integer\")"
   ]
  }
 ],
 "metadata": {
  "kernelspec": {
   "display_name": "Python 3",
   "language": "python",
   "name": "python3"
  },
  "language_info": {
   "codemirror_mode": {
    "name": "ipython",
    "version": 3
   },
   "file_extension": ".py",
   "mimetype": "text/x-python",
   "name": "python",
   "nbconvert_exporter": "python",
   "pygments_lexer": "ipython3",
   "version": "3.8.3"
  }
 },
 "nbformat": 4,
 "nbformat_minor": 4
}
