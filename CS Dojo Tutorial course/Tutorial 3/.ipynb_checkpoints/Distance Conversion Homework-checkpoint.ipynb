{
 "cells": [
  {
   "cell_type": "code",
   "execution_count": 2,
   "metadata": {},
   "outputs": [],
   "source": [
    "#create a function that converts miles into kilometers\n",
    "#1 mile is equal to 1.6 kilometers\n",
    "#1.6*mile=kilometers\n",
    "\n",
    "def km_calc(miles):\n",
    "    return 1.6*miles"
   ]
  },
  {
   "cell_type": "code",
   "execution_count": 5,
   "metadata": {},
   "outputs": [],
   "source": [
    "#Sample value: Convert 3.2 miles to kilometers\n"
   ]
  },
  {
   "cell_type": "code",
   "execution_count": 6,
   "metadata": {},
   "outputs": [
    {
     "name": "stdout",
     "output_type": "stream",
     "text": [
      "5.120000000000001\n"
     ]
    }
   ],
   "source": [
    "km= km_calc(3.2)\n",
    "print (km)"
   ]
  },
  {
   "cell_type": "code",
   "execution_count": 7,
   "metadata": {},
   "outputs": [],
   "source": [
    "#In order to make the results more understandable I will re-write the function to have string descriptions"
   ]
  },
  {
   "cell_type": "code",
   "execution_count": 43,
   "metadata": {
    "scrolled": true
   },
   "outputs": [],
   "source": [
    "def km_calc2(miles):\n",
    "    print (\"The program will now convert the distance of\", miles, \"miles into kilometers\")\n",
    "    return 1.6*miles"
   ]
  },
  {
   "cell_type": "code",
   "execution_count": 47,
   "metadata": {
    "scrolled": true
   },
   "outputs": [
    {
     "name": "stdout",
     "output_type": "stream",
     "text": [
      "The program will now convert the distance of 3.2 miles into kilometers\n",
      "loading...\n",
      "loading...\n",
      "loading...\n",
      "*DING*\n",
      "The calculated distance is  5.120000000000001 kilometers\n"
     ]
    }
   ],
   "source": [
    "km_new= km_calc2(3.2)\n",
    "print (\"loading...\")\n",
    "print (\"loading...\")\n",
    "print (\"loading...\")\n",
    "print (\"*DING*\")\n",
    "print (\"The calculated distance is \", km_new, \"kilometers\")"
   ]
  },
  {
   "cell_type": "code",
   "execution_count": null,
   "metadata": {},
   "outputs": [],
   "source": []
  }
 ],
 "metadata": {
  "kernelspec": {
   "display_name": "Python 3",
   "language": "python",
   "name": "python3"
  },
  "language_info": {
   "codemirror_mode": {
    "name": "ipython",
    "version": 3
   },
   "file_extension": ".py",
   "mimetype": "text/x-python",
   "name": "python",
   "nbconvert_exporter": "python",
   "pygments_lexer": "ipython3",
   "version": "3.8.3"
  }
 },
 "nbformat": 4,
 "nbformat_minor": 4
}
